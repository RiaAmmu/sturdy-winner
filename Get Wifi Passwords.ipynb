{
 "cells": [
  {
   "cell_type": "code",
   "execution_count": 2,
   "metadata": {},
   "outputs": [
    {
     "name": "stdout",
     "output_type": "stream",
     "text": [
      "Galaxy M014717                |  0987654321\n",
      "Ria's note 7 pro              |  \n",
      "JioFiber_5G                   |  Blincon@#999\n",
      "JioFiber                      |  Blincon@#999\n",
      "iPhone                        |  mohanswapna\n",
      "SRI Krishna JIO               |  8712100555\n",
      "Manrajanu_5G                  |  \n",
      "Manrajanu                     |  \n",
      "Infinix HOT 9 Pro             |  \n",
      "realme 3 Pro                  |  \n",
      "Manrajanu5                    |  \n",
      "ANUBHAV_RIA                   |  \n",
      "Ak'sAndAnu's Realme           |  \n",
      "AMMU                          |  \n"
     ]
    }
   ],
   "source": [
    "# first we will import the subprocess module\n",
    "import subprocess\n",
    "\n",
    "# now we will store the profiles data in \"data\" variable by \n",
    "# running the 1st cmd command using subprocess.check_output\n",
    "data = subprocess.check_output(['netsh', 'wlan', 'show', 'profiles']).decode('utf-8').split('\\n')\n",
    "\n",
    "# now we will store the profile by converting them to list\n",
    "profiles = [i.split(\":\")[1][1:-1] for i in data if \"All User Profile\" in i]\n",
    "\n",
    "# using for loop in python we are checking and printing the wifi \n",
    "# passwords if they are available using the 2nd cmd command\n",
    "for i in profiles:\n",
    "    # running the 2nd cmd command to check passwords\n",
    "    results = subprocess.check_output(['netsh', 'wlan', 'show', 'profile', i, \n",
    "                        'key=clear']).decode('utf-8').split('\\n')\n",
    "    # storing passwords after converting them to list\n",
    "    results = [b.split(\":\")[1][1:-1] for b in results if \"Key Content\" in b]\n",
    "    # printing the profiles(wifi name) with their passwords using \n",
    "    # try and except method \n",
    "    try:\n",
    "        print (\"{:<30}|  {:<}\".format(i, results[0]))\n",
    "    except IndexError:\n",
    "        print (\"{:<30}|  {:<}\".format(i, \"\"))"
   ]
  }
 ],
 "metadata": {
  "interpreter": {
   "hash": "f7a95a54a9a8747dc99377e73ca4cf90789f33c5642080fbce83b155a1829a01"
  },
  "kernelspec": {
   "display_name": "Python 3.9.9 64-bit (windows store)",
   "language": "python",
   "name": "python3"
  },
  "language_info": {
   "codemirror_mode": {
    "name": "ipython",
    "version": 3
   },
   "file_extension": ".py",
   "mimetype": "text/x-python",
   "name": "python",
   "nbconvert_exporter": "python",
   "pygments_lexer": "ipython3",
   "version": "3.9.9"
  },
  "orig_nbformat": 4
 },
 "nbformat": 4,
 "nbformat_minor": 2
}
