{
 "cells": [
  {
   "cell_type": "code",
   "execution_count": 1,
   "metadata": {},
   "outputs": [
    {
     "name": "stdout",
     "output_type": "stream",
     "text": [
      "L W D \n",
      "Series ended in a draw.\n"
     ]
    }
   ],
   "source": [
    "import random\n",
    "import tkinter\n",
    "\n",
    "stats = []\n",
    "\n",
    "\n",
    "def get_winner(call):\n",
    "    if random.random() <= (1 / 3):\n",
    "        throw = \"rock\"\n",
    "    elif (1 / 3) < random.random() <= (2 / 3):\n",
    "        throw = \"scissors\"\n",
    "    else:\n",
    "        throw = \"paper\"\n",
    "\n",
    "    if (throw == \"rock\" and call == \"paper\") or (throw == \"paper\" and call == \"scissors\") \\\n",
    "            or (throw == \"scissors\" and call == \"rock\"):\n",
    "        stats.append('W')\n",
    "        result = \"You won!\"\n",
    "    elif throw == call:\n",
    "        stats.append('D')\n",
    "        result = \"It's a draw\"\n",
    "    else:\n",
    "        stats.append('L')\n",
    "        result = \"You lost!\"\n",
    "\n",
    "    global output\n",
    "    output.config(text=\"Computer did: \" + throw + \"\\n\" + result)\n",
    "\n",
    "\n",
    "def pass_s():\n",
    "    get_winner(\"scissors\")\n",
    "\n",
    "\n",
    "def pass_r():\n",
    "    get_winner(\"rock\")\n",
    "\n",
    "\n",
    "def pass_p():\n",
    "    get_winner(\"paper\")\n",
    "\n",
    "\n",
    "window = tkinter.Tk()\n",
    "\n",
    "scissors = tkinter.Button(window, text=\"Scissors\", bg=\"#ff9999\", padx=10, pady=5, command=pass_s, width=20)\n",
    "rock = tkinter.Button(window, text=\"Rock\", bg=\"#80ff80\", padx=10, pady=5, command=pass_r, width=20)\n",
    "paper = tkinter.Button(window, text=\"Paper\", bg=\"#3399ff\", padx=10, pady=5, command=pass_p, width=20)\n",
    "output = tkinter.Label(window, width=20, fg=\"red\", text=\"What's your call?\")\n",
    "\n",
    "scissors.pack(side=\"left\")\n",
    "rock.pack(side=\"left\")\n",
    "paper.pack(side=\"left\")\n",
    "output.pack(side=\"right\")\n",
    "window.mainloop()\n",
    "\n",
    "for i in stats: print(i, end=\" \")\n",
    "if stats.count('L') > stats.count('W'):\n",
    "    result = \"\\nYou loose the series.\"\n",
    "elif stats.count('L') == stats.count('W'):\n",
    "    result = \"\\nSeries ended in a draw.\"\n",
    "else:\n",
    "    result = \"\\nYou win the series.\"\n",
    "\n",
    "print(result)"
   ]
  }
 ],
 "metadata": {
  "interpreter": {
   "hash": "f7a95a54a9a8747dc99377e73ca4cf90789f33c5642080fbce83b155a1829a01"
  },
  "kernelspec": {
   "display_name": "Python 3.9.9 64-bit (windows store)",
   "language": "python",
   "name": "python3"
  },
  "language_info": {
   "codemirror_mode": {
    "name": "ipython",
    "version": 3
   },
   "file_extension": ".py",
   "mimetype": "text/x-python",
   "name": "python",
   "nbconvert_exporter": "python",
   "pygments_lexer": "ipython3",
   "version": "3.9.9"
  },
  "orig_nbformat": 4
 },
 "nbformat": 4,
 "nbformat_minor": 2
}
